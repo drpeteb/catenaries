{
 "metadata": {
  "name": "",
  "signature": "sha256:c7a7c37678e02f9662a83b3094d7afa2199be281d2792621b989fe41bd29f410"
 },
 "nbformat": 3,
 "nbformat_minor": 0,
 "worksheets": [
  {
   "cells": [
    {
     "cell_type": "heading",
     "level": 1,
     "metadata": {},
     "source": [
      "Introduction"
     ]
    },
    {
     "cell_type": "markdown",
     "metadata": {},
     "source": [
      "Long ago, during my gap year, I remember trying to derive the equations for a catenary. I recall arriving at the conclusion that it was some sort of cosh shape, but I don't remember how I got there. I was recently reminded of this during a visit to Barcelona. Their revered architect Gaudi used catenary arches everywhere, and designed them by hanging models upside down.\n",
      "\n",
      "<br/>\n",
      "<img width=500 src=\"gaudi_catenary_rotated.jpg\">\n",
      "<br/>\n",
      "\n",
      "I thought I'd see if I could work through the maths as a little exercise and found it to be more complicated than I had thought. So that I didn't forget it all again, I thought I'd jot it down in a notebook.\n",
      "\n",
      "Let's get some libraries that we'll need."
     ]
    },
    {
     "cell_type": "code",
     "collapsed": false,
     "input": [
      "%matplotlib inline\n",
      "import numpy as np\n",
      "import scipy as sp\n",
      "import scipy.optimize as spopt\n",
      "import matplotlib.pyplot as plt"
     ],
     "language": "python",
     "metadata": {},
     "outputs": [],
     "prompt_number": 4
    },
    {
     "cell_type": "heading",
     "level": 1,
     "metadata": {},
     "source": [
      "What's A Catenary?"
     ]
    },
    {
     "cell_type": "markdown",
     "metadata": {},
     "source": [
      "It's the equlibrium shape reached by an idealised mathematical piece of string, or other dangly linear element, which is allowed to droop between two fixed points. Like this..."
     ]
    },
    {
     "cell_type": "code",
     "collapsed": false,
     "input": [
      "# Make a figure\n",
      "fig = plt.figure(figsize=(5,5))\n",
      "ax = fig.add_axes((0.1,0.1,0.9,0.9))\n",
      "\n",
      "# Draw a catenary\n",
      "a = 1\n",
      "x = np.linspace(-1,1,101)\n",
      "y = np.divide(np.cosh(a*x), a)\n",
      "ax.plot(x,y,'k')\n",
      "ax.plot([x[0],x[-1]],[y[0],y[-1]],'or')\n",
      "\n",
      "# Add axes\n",
      "ax.annotate('',(0,0),(0.5,0),arrowprops=dict(arrowstyle='<-'))\n",
      "ax.annotate('',(0,0),(0,0.5),arrowprops=dict(arrowstyle='<-'))\n",
      "ax.text(0.5,0.05,'$x$',fontsize=16)\n",
      "ax.text(0.05,0.5,'$y$',fontsize=16)\n",
      "\n",
      "ax.set_xlim([-1.1,1.1])\n",
      "ax.set_ylim([-0.2,2])\n",
      "plt.show()"
     ],
     "language": "python",
     "metadata": {},
     "outputs": [
      {
       "metadata": {},
       "output_type": "display_data",
       "png": "[encoded data removed]",
       "text": [
        "<matplotlib.figure.Figure at 0x7f71e56eb1d0>"
       ]
      }
     ],
     "prompt_number": 37
    },
    {
     "cell_type": "markdown",
     "metadata": {},
     "source": [
      "Our aim is to describe this shape with a mathematical function using a bit of calculus. In order to do this, we'll need to explicitly state our model for the system. Here are our assumptions:\n",
      "<ul>\n",
      "<li> Our system exists in two dimensions </li>\n",
      "<li> Our \"string\" has negligible thickness, a fixed length, and a uniform mass per unit length </li>\n",
      "<li> Its two ends are fixed rigidly to two points at known locations </li>\n",
      "<li> The string can sustain tensile force only </li>\n",
      "<li> To keep things simple, we'll assume the two fixed points are on the same level, so our setup is symmetrical </li>\n",
      "</ul>\n",
      "\n",
      "We'll use $x$ and $y$ axes as defined in the figure above, with the $y$-axis passing through the centre where the string lies horizontally, and the $x$-axis somewhere below the lowest point. We'll get to that later. We want to find a function $y=f(x)$ for the catenary shape."
     ]
    },
    {
     "cell_type": "heading",
     "level": 1,
     "metadata": {},
     "source": [
      "Some Trigonometry"
     ]
    },
    {
     "cell_type": "markdown",
     "metadata": {},
     "source": [
      "Lets consider an infinitesimal little chunk of the string."
     ]
    },
    {
     "cell_type": "code",
     "collapsed": false,
     "input": [
      "# Make a figure\n",
      "ax = plt.figure().add_subplot(1,1,1)\n",
      "ax.axis('equal')\n",
      "\n",
      "# Draw a little piece of the string\n",
      "ax.plot([2,2.1],[1,1.1],linewidth=5,color='k')\n",
      "ax.set_xlim([1.8,2.3])\n",
      "ax.set_ylim([0.8,1.3])\n",
      "\n",
      "# Draw labels\n",
      "ax.annotate(\"\",(2-0.01,1-0.05),(2.1+0.01,1-0.05),arrowprops=dict(arrowstyle='<->'))\n",
      "ax.annotate(\"\",(2.1+0.05,1-0.01),(2.1+0.05,1.1+0.01),arrowprops=dict(arrowstyle='<->'))\n",
      "ax.annotate(\"\",(2-0.02,1+0.02),(2.1-0.02,1.1+0.02),arrowprops=dict(arrowstyle='<->'))\n",
      "ax.text(2.04,0.9,'$\\delta x$',fontsize=16)\n",
      "ax.text(2.17,1.04,'$\\delta y$',fontsize=16)\n",
      "ax.text(2.,1.07,'$\\delta r$',fontsize=16)\n",
      "ax.plot([2,2.05],[1-0.01,1-0.01],color='k')\n",
      "ax.text(2.05,1.01,'$\\phi$',fontsize=16)\n",
      "\n",
      "# Draw it\n",
      "plt.show()"
     ],
     "language": "python",
     "metadata": {},
     "outputs": [
      {
       "metadata": {},
       "output_type": "display_data",
       "png": "[encoded data removed]",
       "text": [
        "<matplotlib.figure.Figure at 0x7f71e581eb50>"
       ]
      }
     ],
     "prompt_number": 10
    },
    {
     "cell_type": "markdown",
     "metadata": {},
     "source": [
      "The infinitesimals $\\delta x$ and $\\delta y$ are small increments in the coordinate directions, and $\\delta r$ is the length of the little chunk. We'll specify that the total length of string $r$ be measured from the lowest point, such that it has the same sign as $x$ at all points.\n",
      "\n",
      "Now, these three infinitesimals are related by basic trigonometry. If we take some limits as all the \"$\\delta$\"s go to $0$, we can express various derivatives as functions of $\\phi$,\n",
      "\n",
      "\\begin{align}\n",
      "\\frac{d y}{d r} &= \\sin(\\phi) \\\\\n",
      "\\frac{d x}{d r} &= \\cos(\\phi) \\\\\n",
      "\\frac{d y}{d x} &= \\tan(\\phi)     .\n",
      "\\end{align}\n",
      "\n",
      "There are some more useful relationships we're going to need. Pythagoras tells us that,\n",
      "\n",
      "\\begin{equation}\n",
      "\\delta r = \\sqrt{ \\delta x^2 + \\delta y^2 }     .\n",
      "\\end{equation}\n",
      "\n",
      "Dividing through by $\\delta x$ and taking the limit,\n",
      "\n",
      "\\begin{equation}\n",
      "\\frac{d r}{d x} = \\sqrt{1+\\left(\\frac{d y}{d x}\\right)^2}    .\n",
      "\\end{equation}\n",
      "\n",
      "Finally, the following trig identites are going to come in handy. First,\n",
      "\n",
      "\\begin{align}\n",
      "           \\sin^2(\\phi) &+ \\cos^2(\\phi) = 1 \\\\\n",
      "\\Rightarrow \\tan^2(\\phi) &+ 1 = \\sec^2(\\phi)\n",
      "\\end{align}\n",
      "\n",
      "\\begin{equation}\n",
      "\\Rightarrow \\sec(\\phi) = \\sqrt{1+\\tan^2(\\phi)}     .\n",
      "\\end{equation}\n",
      "\n",
      "Second,\n",
      "\n",
      "\\begin{align}\n",
      "\\sin(\\phi) &= \\tan(\\phi) \\cos(\\phi) \\\\\n",
      "           &= \\frac{\\tan(\\phi)}{\\sec(\\phi)} \\\\\n",
      "           &= \\frac{\\tan(\\phi)}{\\sqrt{1+\\tan^2(\\phi)}}      .\n",
      "\\end{align}"
     ]
    },
    {
     "cell_type": "heading",
     "level": 1,
     "metadata": {},
     "source": [
      "Balancing Forces"
     ]
    },
    {
     "cell_type": "markdown",
     "metadata": {},
     "source": [
      "We're looking for the equilibrium shape for the string, so we'll need to consider the forces acting on our infinitesimal chunk. These are the tension acting in the direction of the string and gravity. Here's a free-body diagram."
     ]
    },
    {
     "cell_type": "code",
     "collapsed": false,
     "input": [
      "# Make a figure\n",
      "ax = plt.figure().add_subplot(1,1,1)\n",
      "ax.axis('equal')\n",
      "\n",
      "# Draw a little piece of the string\n",
      "ax.plot([2,2.1],[1,1.1],linewidth=5,color='k')\n",
      "ax.set_xlim([1.8,2.3])\n",
      "ax.set_ylim([0.8,1.3])\n",
      "\n",
      "# Draw labels\n",
      "ax.annotate(\"\",(2,1),(2-0.05,1-0.05),arrowprops=dict(arrowstyle='<-'))\n",
      "ax.annotate(\"\",(2.1,1.1),(2.1+0.05,1.1+0.05),arrowprops=dict(arrowstyle='<-'))\n",
      "ax.annotate(\"\",(2.05,1.05),(2.05,1.05-0.05),arrowprops=dict(arrowstyle='<-'))\n",
      "#ax.annotate(\"\",(2-0.02,1+0.02),(2.1-0.02,1.1+0.02),arrowprops=dict(arrowstyle='<-'))\n",
      "ax.text(1.95,1,'$T$',fontsize=16)\n",
      "ax.text(2.15,1.1,'$T+\\delta T$',fontsize=16)\n",
      "ax.text(2.06,1,'$\\lambda \\cdot g \\cdot \\delta r$',fontsize=16)\n",
      "\n",
      "# Draw it\n",
      "plt.show()"
     ],
     "language": "python",
     "metadata": {},
     "outputs": [
      {
       "metadata": {},
       "output_type": "display_data",
       "png": "[encoded data removed]",
       "text": [
        "<matplotlib.figure.Figure at 0x7f71e585f650>"
       ]
      }
     ],
     "prompt_number": 40
    },
    {
     "cell_type": "markdown",
     "metadata": {},
     "source": [
      "(Note that this is not to scale. The little piece of string should be infinitesimally curved and the forces should balance.)\n",
      "\n",
      "If we resolve $\\delta T$ in the $x$ and $y$ directions and then balance horizontal and vertical forces we find that,\n",
      "\n",
      "\\begin{align}\n",
      "\\delta T_x &= 0 \\\\\n",
      "\\delta T_y &= \\lambda g \\delta r\n",
      "\\end{align}\n",
      "\n",
      "Now, in the limit as all the \"$\\delta$\"s go to $0$, this gives us two differential equations that are easily solved,\n",
      "\n",
      "\\begin{align}\n",
      "\\frac{d T_x}{d r} = 0 & \\Rightarrow T_x = K \\\\\n",
      "\\frac{d T_y}{d r} = \\lambda g & \\Rightarrow T_y = \\lambda g r\n",
      "\\end{align}\n",
      "\n",
      "K is an unknown constant of integration representing the constant horizontal tension throughout the string. The constant in the second integral is $0$. We put the origin directly underneath the lowest point, where the string is by definition horizontal, and therefore so is the tension force.\n",
      "\n",
      "Finally we can put this all together. The last logical step follows from our assumption that the string can only support a tensile force. This means that the line of action of $T$ is always tangent to the string at that point. This means that,\n",
      "\n",
      "\\begin{equation}\n",
      "\\frac{T_y}{T_x} = \\tan(\\phi)    .\n",
      "\\end{equation}\n",
      "\n",
      "We'll define a new constant to simplify notation henceforth,\n",
      "\n",
      "\\begin{equation}\n",
      "a = \\frac{\\lambda g}{K}     ,\n",
      "\\end{equation}\n",
      "\n",
      "which means that the key relationship to take away is,\n",
      "\n",
      "\\begin{equation}\n",
      "\\tan(\\phi) = a r     .\n",
      "\\end{equation}"
     ]
    },
    {
     "cell_type": "heading",
     "level": 1,
     "metadata": {},
     "source": [
      "A Dead End"
     ]
    },
    {
     "cell_type": "markdown",
     "metadata": {},
     "source": [
      "By consideration of the geometry (and in fact its pretty much the definintion of a tangent) we know that,\n",
      "\n",
      "\\begin{equation}\n",
      "\\tan(\\phi) = \\frac{d y}{d x}     .\n",
      "\\end{equation}\n",
      "\n",
      "So... (elimating $\\tan(\\phi))$, we get the following differential equation,\n",
      "\n",
      "\\begin{equation}\n",
      "\\frac{d y}{d x} = a r     .\n",
      "\\end{equation}\n",
      "\n",
      "This is the simplest statement of the govening equation for a catenary. However, before we can solve it, we need to elinate that $r$. This gets messy. We differentiate the governing equation w.r.t $x$ and eliminate the resulting $\\frac{dr}{dx}$ term using the expression we derived earlier. This leaves us with,\n",
      "\n",
      "\\begin{equation}\n",
      "\\frac{d^2 y}{d x^2} = a \\sqrt{1+\\left(\\frac{d y}{d x}\\right)^2}     .\n",
      "\\end{equation}\n",
      "\n",
      "Ok. That's a bitch of a nonlinear second order differential equation now. But, Wolfram Alpha can solve it! This is the most direct route to the catenary solution. Unfortunately, I don't feel inclined to pay for the pro edition in order to find out how it did it, so we'll have to find a different way."
     ]
    },
    {
     "cell_type": "heading",
     "level": 1,
     "metadata": {},
     "source": [
      "Solving By Hand"
     ]
    },
    {
     "cell_type": "markdown",
     "metadata": {},
     "source": [
      "We'll have to back-track a bit. We can solve the governing differential equation by breaking it up into two parts. We can separately solve to find both $x$ and $y$ as a function of $r$, and then eliminate $r$.\n",
      "\n",
      "Back to our geometry picture. This time we start with,\n",
      "\n",
      "\\begin{equation}\n",
      "\\frac{dy}{dr} = \\sin(\\phi) \\qquad \\frac{dr}{dx} = \\sec(\\phi)     .\n",
      "\\end{equation}\n",
      "\n",
      "Using the trig identities we prepared earlier, we can express the two right hand sides in terms of $\\tan(\\phi)$ and then use the identity from the force balancing section to get rid of $\\phi$. Starting with the $x$ equation,\n",
      "\n",
      "\\begin{align}\n",
      "\\frac{dr}{dx} &= \\sec(\\phi) \\\\\n",
      "              &= \\sqrt{1+\\tan^2(\\phi)} \\\\\n",
      "              &= \\sqrt{1+\\left(ar\\right)^2}      .\n",
      "\\end{align}\n",
      "\n",
      "And for the $y$ equation,\n",
      "\n",
      "\\begin{align}\n",
      "\\frac{dy}{dr} &= \\sin(\\phi) \\\\\n",
      "              &= \\frac{\\tan(\\phi)}{\\sqrt{1+\\tan^2(\\phi)}} \\\\\n",
      "              &= \\frac{ar}{\\sqrt{1+\\left(ar\\right)^2}}      .\n",
      "\\end{align}\n",
      "\n",
      "Now these two ODEs are far easier to solve than that vicious one we got earlier. In fact, their both standard integrals out of a formula book. For the first,\n",
      "\n",
      "\\begin{align}\n",
      " \\int dx &= \\int \\frac{1}{\\sqrt{1+\\left(\\frac{r}{a}\\right)^2}} dr \\\\\n",
      " x &= \\frac{1}{a} \\sinh^{-1}\\left(ar\\right) + C_x     .\n",
      "\\end{align}\n",
      "\n",
      "And for the second,\n",
      "\n",
      "\\begin{align}\n",
      "\\int dy &= \\int \\frac{ar}{\\sqrt{1+\\left(ar\\right)^2}} dr \\\\\n",
      "y &= \\frac{1}{a} \\sqrt{1+(ar)^2} + C_y     .\n",
      "\\end{align}\n",
      "\n",
      "What about those constants of integration? Well, we defined our $r$ variable to be $0$ at the lowest point, i.e. where $x=0$, so $C_x=0$. We haven't yet defined where the $x$-axis is. We're going to do that now, We'll place the origin in such a position that $C_y=0$. That will simplify our formulas.\n",
      "\n",
      "Now we can manipulate both these formulas in order to make $r$ the subject,\n",
      "\n",
      "\\begin{equation}\n",
      "r = \\frac{1}{a} \\sinh(ax) \\qquad \\qquad r = \\sqrt{y^2 - \\frac{1}{a^2}}     .\n",
      "\\end{equation}\n",
      "\n",
      "And so, combining these and using the hypobolic form of Pythagoras,\n",
      "\n",
      "\\begin{equation}\n",
      "y = \\frac{1}{a} \\cosh{ax}     .\n",
      "\\end{equation}\n",
      "\n",
      "That's it! The shape of a catenary is a scaled cosh curve."
     ]
    },
    {
     "cell_type": "heading",
     "level": 1,
     "metadata": {},
     "source": [
      "Fitting the Constraints"
     ]
    },
    {
     "cell_type": "markdown",
     "metadata": {},
     "source": [
      "We're not done yet. Our catenary scale factor is,\n",
      "\n",
      "\\begin{equation}\n",
      "a = \\frac{\\lambda g}{K}     .\n",
      "\\end{equation}\n",
      "\n",
      "$K$ is the value of the constant horizontal tension in the string, and we don't actually know what that is. To work it our, we need some boundary conditions, some known constraints, about our system. Naturally, the two properties of our system that we could measure are the distance between the two fixed points, and the length of the string. We'll call the first one $2L$ and the second $2R$. The \"$2$\"s mean that the distances are measured from the centre, where we put the $y$-axis, and make the algebra a little easier."
     ]
    },
    {
     "cell_type": "code",
     "collapsed": false,
     "input": [
      "# Make a figure\n",
      "fig = plt.figure(figsize=(5,5))\n",
      "ax = fig.add_axes((0.1,0.1,0.9,0.9))\n",
      "\n",
      "# Draw a catenary\n",
      "a = 1\n",
      "x = np.linspace(-1,1,101)\n",
      "y = np.divide(np.cosh(a*x), a)\n",
      "ax.plot(x,y,'k')\n",
      "ax.plot([x[0],x[-1]],[y[0],y[-1]],'or')\n",
      "\n",
      "# Add axes\n",
      "ax.annotate('',(0,0),(0.5,0),arrowprops=dict(arrowstyle='<-'))\n",
      "ax.annotate('',(0,0),(0,0.5),arrowprops=dict(arrowstyle='<-'))\n",
      "ax.text(0.5,0.05,'$x$',fontsize=16)\n",
      "ax.text(0.05,0.5,'$y$',fontsize=16)\n",
      "\n",
      "# Constraints\n",
      "ax.annotate('',(-1,1.6),(1,1.6),arrowprops=dict(arrowstyle='<->'))\n",
      "ax.text(-0.05,1.65,'$2L$',fontsize=16)\n",
      "ax.text(-0.05,0.9,'$2R$',fontsize=16)\n",
      "\n",
      "ax.set_xlim([-1.1,1.1])\n",
      "ax.set_ylim([-0.2,2])\n",
      "plt.show()"
     ],
     "language": "python",
     "metadata": {},
     "outputs": [
      {
       "metadata": {},
       "output_type": "display_data",
       "png": "[encoded data removed]",
       "text": [
        "<matplotlib.figure.Figure at 0x7f71e5757710>"
       ]
      }
     ],
     "prompt_number": 72
    },
    {
     "cell_type": "markdown",
     "metadata": {},
     "source": [
      "With these two known distances, it is clear that when $x=L$ we must have $r=R$. That ensures that the ends of the string are coincident with the constraint points. Plug these into the $r$-$x$ formula above and we have an equation for $a$,\n",
      "\n",
      "\\begin{equation}\n",
      "aR = \\sinh(aL)     .\n",
      "\\end{equation}\n",
      "\n",
      "This has no analytic solution. Damn. So we'll have to solve it numerically. We can do that by minimising the squared error function,\n",
      "\n",
      "\\begin{equation}\n",
      "e(a) = (\\sinh(aL)-aR)^2     .\n",
      "\\end{equation}\n",
      "\n",
      "Scipy.optimize has a suitable function to do this minimisation. However, it often doesn't work. The problem is that it returns the trivial zero at $x=0$ instead of the strictly positive solution that we want. We can fix this by identifying some suitable bounds. Take a look at the function $\\sinh(aL)-aR$."
     ]
    },
    {
     "cell_type": "code",
     "collapsed": false,
     "input": [
      "# Make a figure\n",
      "fig = plt.figure(figsize=(5,5))\n",
      "ax = fig.add_axes((0.1,0.1,0.9,0.9))\n",
      "\n",
      "# Draw a catenary\n",
      "L = 1\n",
      "R = 2\n",
      "a = np.linspace(0,3,101)\n",
      "er = np.sinh(a*L) - a*R\n",
      "ax.plot(a,er,'k')\n",
      "ax.text(1.7,2,'$\\sinh(aL)-aR$',fontsize=16)\n",
      "\n",
      "# Bound\n",
      "bd = (a*L) + (a*L)**3/6 - a*R\n",
      "ax.plot(a,bd,'k--')\n",
      "ax.text(1.5,-1.3,'$aL+(aL)^3/6-aR$',fontsize=16)\n",
      "\n",
      "ax.plot([0,3],[0,0],'k:')\n",
      "ax.set_xlim([0,3])\n",
      "ax.set_ylim([-2,5])\n",
      "ax.set_xlabel('$a$',fontsize=16)\n",
      "plt.show()"
     ],
     "language": "python",
     "metadata": {},
     "outputs": [
      {
       "metadata": {},
       "output_type": "display_data",
       "png": "[encoded data removed]",
       "text": [
        "<matplotlib.figure.Figure at 0x7f71e5809050>"
       ]
      }
     ],
     "prompt_number": 97
    },
    {
     "cell_type": "markdown",
     "metadata": {},
     "source": [
      "The value of $x$ at the minimum is always clearly lower than that at the root, where the function crosses the $x$-axis, so we can use this as a lower bound constraint for the optimisation. That minimum occurs where the gradient is $0$, so where,\n",
      "\n",
      "\\begin{equation}\n",
      "L \\cosh{aL} - R = 0\n",
      "\\end{equation}\n",
      "\\begin{equation}\n",
      "\\Rightarrow a = \\frac{1}{L} \\cosh^{-1}\\left(\\frac{R}{L}\\right)    .\n",
      "\\end{equation}\n",
      "\n",
      "While we're at it, there's also an obvious upper bound, which we can use to speed up the optimisation. The Taylor series of $\\sinh$ contains only positive terms, so if we throw away all but the first two terms, then the resulting function will be a lower bound in the region $x>0$,\n",
      "\n",
      "\\begin{equation}\n",
      "\\sinh(x) > x + \\frac{x^3}{6}     .\n",
      "\\end{equation}\n",
      "\n",
      "This lower bound is also shown in the figure above. The positive root of this function is clearly always greater than the solution we're looking for. This point is at,\n",
      "\n",
      "\\begin{equation}\n",
      "\\frac{(aL)^3}{6} + aL - aR = 0\n",
      "\\end{equation}\n",
      "\\begin{equation}\n",
      "\\Rightarrow x = \\frac{ 3 \\sqrt{ \\frac{2}{3} L^3 (R-L) } }{L^3}      .\n",
      "\\end{equation}\n",
      "\n",
      "We can also speed up the optimisation by supplying the gradient and Hessian,\n",
      "\n",
      "\\begin{align}\n",
      "\\frac{de}{da} &= 2 ( \\sinh(aL)-aR ) ( L\\cosh(aL)-R )\n",
      "\\end{align}\n",
      "\\begin{align}\n",
      "\\frac{d^2e}{da^2} &= 2\\left( (\\sinh(aL)-aR)(L^2\\sinh(aL) + (L\\cosh(aL)-R)^2 \\right)     .\n",
      "\\end{align}\n",
      "\n",
      "let's code this all up."
     ]
    },
    {
     "cell_type": "code",
     "collapsed": false,
     "input": [
      "def scale_err_fun(a, L, R):\n",
      "    return (np.sinh(a*L) - a*R)**2\n",
      "\n",
      "def scale_err_jac(a, L, R):\n",
      "    return 2*(np.sinh(a*L)-a*R)*(L*np.cosh(a*L)-R)\n",
      "\n",
      "def scale_err_hess(a, L, R):\n",
      "    return 2*( (np.sinh(a*L)-a*R)*(L**2*np.sinh(a*L)) + (L*np.cosh(a*L)-R)**2 )"
     ],
     "language": "python",
     "metadata": {},
     "outputs": [],
     "prompt_number": 154
    },
    {
     "cell_type": "code",
     "collapsed": false,
     "input": [
      "def solve_catenary_scale(L, R):\n",
      "    \"\"\"Find the scale factor a from length contraints L and R\"\"\"\n",
      "    \n",
      "    # Bounds\n",
      "    lb = np.arccosh(R/L)/L\n",
      "    ub = 3*np.sqrt((2./3)*L**3*(R-L))/(L**3)\n",
      "    \n",
      "    # Starting point\n",
      "    x0 = np.sqrt(lb*ub)\n",
      "    \n",
      "    # Optimise\n",
      "    opt = spopt.minimize(scale_err_fun, x0, (L,R), tol=1E-10, bounds=[(lb,ub)])\n",
      "    a = opt.x\n",
      "    \n",
      "    return a\n",
      "    "
     ],
     "language": "python",
     "metadata": {},
     "outputs": [],
     "prompt_number": 173
    },
    {
     "cell_type": "markdown",
     "metadata": {},
     "source": [
      "Great. Now we have everything we need to draw our catenary."
     ]
    },
    {
     "cell_type": "code",
     "collapsed": false,
     "input": [
      "def catenary(x, a):\n",
      "    \"\"\"Catenary function with scale a\"\"\"\n",
      "    \n",
      "    return np.divide(np.cosh(a*x), a)\n",
      "    \n",
      "\n",
      "def draw_catenary(L, R, N=100):\n",
      "    \"\"\"Return catenary coordinates as x,y lists\"\"\"\n",
      "    \n",
      "    # Find the catenary scaling for this L,R combination\n",
      "    a = solve_catenary_scale(L, R)\n",
      "    \n",
      "    # Coordinates\n",
      "    x = np.linspace(-L,L,N)\n",
      "    y = catenary(x, a)\n",
      "    \n",
      "    # Draw it all\n",
      "    ax = plt.figure().add_subplot(1,1,1)\n",
      "    ax.plot(x,y,'k')\n",
      "    ax.plot([x[0],x[-1]],[y[0],y[-1]],'or')\n",
      "    ax.set_xlim([-1.1*L,1.1*L])\n",
      "    plt.show()\n",
      "    \n",
      "    print(\"Catenary scale factor is {a}\".format(a=a))"
     ],
     "language": "python",
     "metadata": {},
     "outputs": [],
     "prompt_number": 187
    },
    {
     "cell_type": "code",
     "collapsed": false,
     "input": [
      "fig = draw_catenary(1,3)"
     ],
     "language": "python",
     "metadata": {},
     "outputs": [
      {
       "metadata": {},
       "output_type": "display_data",
       "png": "[encoded data removed]",
       "text": [
        "<matplotlib.figure.Figure at 0x7f71e58e2cd0>"
       ]
      },
      {
       "output_type": "stream",
       "stream": "stdout",
       "text": [
        "Catenary scale factor is [ 2.83844638]\n"
       ]
      }
     ],
     "prompt_number": 188
    },
    {
     "cell_type": "markdown",
     "metadata": {},
     "source": [
      "There we go. Isnt' that nice.\n",
      "\n"
     ]
    },
    {
     "cell_type": "heading",
     "level": 1,
     "metadata": {},
     "source": [
      "Some TH0uo"
     ]
    }
   ],
   "metadata": {}
  }
 ]
}