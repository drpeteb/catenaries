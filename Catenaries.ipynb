{
 "metadata": {
  "name": "",
  "signature": "sha256:3d1d4b938d116a3fa7968b711a68952a122ca9376b88aa3d1dc3e777c29c367e"
 },
 "nbformat": 3,
 "nbformat_minor": 0,
 "worksheets": [
  {
   "cells": [
    {
     "cell_type": "heading",
     "level": 1,
     "metadata": {},
     "source": [
      "Introduction"
     ]
    },
    {
     "cell_type": "markdown",
     "metadata": {},
     "source": [
      "Long ago, during my gap year, I remember trying to derive the equations for a catenary. I recall arriving at the conclusion that it was some sort of cosh shape, but I don't remember how I got there. I was recently reminded of this during a visit to Barcelona. Their revered architect Gaudi used catenary arches everywhere, and designed them by hanging models upside down.\n",
      "\n",
      "<br/>\n",
      "<img width=500 src=\"gaudi_catenary_rotated.jpg\">\n",
      "<br/>\n",
      "\n",
      "I thought I'd see if I could work through the maths as a little exercise and found it to be more complicated than I had thought. So that I didn't forget it all again, I thought I'd jot it down in a notebook.\n",
      "\n",
      "Let's get some libraries that we'll need."
     ]
    },
    {
     "cell_type": "code",
     "collapsed": false,
     "input": [
      "%matplotlib inline\n",
      "import numpy as np\n",
      "import scipy as sp\n",
      "import scipy.optimize as spopt\n",
      "import matplotlib.pyplot as plt"
     ],
     "language": "python",
     "metadata": {},
     "outputs": [],
     "prompt_number": 4
    },
    {
     "cell_type": "heading",
     "level": 1,
     "metadata": {},
     "source": [
      "What's A Catenary?"
     ]
    },
    {
     "cell_type": "markdown",
     "metadata": {},
     "source": [
      "It's the equlibrium shape reached by an idealised mathematical piece of string, or other dangly linear element, which is allowed to droop between two fixed points. Like this..."
     ]
    },
    {
     "cell_type": "code",
     "collapsed": false,
     "input": [
      "# Make a figure\n",
      "fig = plt.figure(figsize=(5,5))\n",
      "ax = fig.add_axes((0.1,0.1,0.9,0.9))\n",
      "\n",
      "# Draw a catenary\n",
      "a = 1\n",
      "x = np.linspace(-1,1,101)\n",
      "y = np.divide(np.cosh(a*x), a)\n",
      "ax.plot(x,y,'k')\n",
      "ax.plot([x[0],x[-1]],[y[0],y[-1]],'or')\n",
      "\n",
      "# Add axes\n",
      "ax.annotate('',(0,0),(0.5,0),arrowprops=dict(arrowstyle='<-'))\n",
      "ax.annotate('',(0,0),(0,0.5),arrowprops=dict(arrowstyle='<-'))\n",
      "ax.text(0.5,0.05,'$x$',fontsize=16)\n",
      "ax.text(0.05,0.5,'$y$',fontsize=16)\n",
      "\n",
      "ax.set_xlim([-1.1,1.1])\n",
      "ax.set_ylim([-0.2,2])\n",
      "plt.show()"
     ],
     "language": "python",
     "metadata": {},
     "outputs": [
      {
       "metadata": {},
       "output_type": "display_data",
       "png": "[encoded data removed]",
       "text": [
        "<matplotlib.figure.Figure at 0x7f71e56eb1d0>"
       ]
      }
     ],
     "prompt_number": 37
    },
    {
     "cell_type": "markdown",
     "metadata": {},
     "source": [
      "Our aim is to describe this shape with a mathematical function using a bit of calculus. In order to do this, we'll need to explicitly state our model for the system. Here are our assumptions:\n",
      "<ul>\n",
      "<li> Our system exists in two dimensions </li>\n",
      "<li> Our \"string\" has negligible thickness, a fixed length, and a uniform mass per unit length </li>\n",
      "<li> Its two ends are fixed rigidly to two points at known locations </li>\n",
      "<li> The string can sustain tensile force only </li>\n",
      "<li> To keep things simple, we'll assume the two fixed points are on the same level, so our setup is symmetrical </li>\n",
      "</ul>\n",
      "\n",
      "We'll use $x$ and $y$ axes as defined in the figure above, with the $y$-axis passing through the centre where the string lies horizontally, and the $x$-axis somewhere below the lowest point. We'll get to that later. We want to find a function $y=f(x)$ for the catenary shape."
     ]
    },
    {
     "cell_type": "heading",
     "level": 1,
     "metadata": {},
     "source": [
      "Some Calculus"
     ]
    },
    {
     "cell_type": "markdown",
     "metadata": {},
     "source": [
      "Lets consider an infinitesimal little chunk of the string. First, some geometry,"
     ]
    },
    {
     "cell_type": "code",
     "collapsed": false,
     "input": [
      "# Make a figure\n",
      "ax = plt.figure().add_subplot(1,1,1)\n",
      "ax.axis('equal')\n",
      "\n",
      "# Draw a little piece of the string\n",
      "ax.plot([2,2.1],[1,1.1],linewidth=5,color='k')\n",
      "ax.set_xlim([1.8,2.3])\n",
      "ax.set_ylim([0.8,1.3])\n",
      "\n",
      "# Draw labels\n",
      "ax.annotate(\"\",(2-0.01,1-0.05),(2.1+0.01,1-0.05),arrowprops=dict(arrowstyle='<->'))\n",
      "ax.annotate(\"\",(2.1+0.05,1-0.01),(2.1+0.05,1.1+0.01),arrowprops=dict(arrowstyle='<->'))\n",
      "ax.annotate(\"\",(2-0.02,1+0.02),(2.1-0.02,1.1+0.02),arrowprops=dict(arrowstyle='<->'))\n",
      "ax.text(2.04,0.9,'$\\delta x$',fontsize=16)\n",
      "ax.text(2.17,1.04,'$\\delta y$',fontsize=16)\n",
      "ax.text(2.,1.07,'$\\delta r$',fontsize=16)\n",
      "ax.plot([2,2.05],[1-0.01,1-0.01],color='k')\n",
      "ax.text(2.05,1.01,'$\\phi$',fontsize=16)\n",
      "\n",
      "# Draw it\n",
      "plt.show()"
     ],
     "language": "python",
     "metadata": {},
     "outputs": [
      {
       "metadata": {},
       "output_type": "display_data",
       "png": "[encoded data removed]",
       "text": [
        "<matplotlib.figure.Figure at 0x7f71e581eb50>"
       ]
      }
     ],
     "prompt_number": 10
    },
    {
     "cell_type": "markdown",
     "metadata": {},
     "source": [
      "The infinitesimals $\\delta x$ and $\\delta y$ are small increments in the coordinate directions, and $\\delta r$ is the length of the little chunk. The total length of string $r$ is measured from the lowest point, such that it has the same sign as $x$ at all points. These three infinitesimals are related by,\n",
      "\n",
      "\\begin{align}\n",
      "\\delta x & = \\delta r \\cos(\\phi) \\\\\n",
      "\\delta y & = \\delta r \\sin(\\phi)      .\n",
      "\\end{align}\n",
      "\n",
      "We're looking for the equilibrium shape for the string, so we'll need to consider the forces acting on our infinitesimal chunk. These are the tension acting in the direction of the string and gravity. Here's a free-body diagram."
     ]
    },
    {
     "cell_type": "code",
     "collapsed": false,
     "input": [
      "# Make a figure\n",
      "ax = plt.figure().add_subplot(1,1,1)\n",
      "ax.axis('equal')\n",
      "\n",
      "# Draw a little piece of the string\n",
      "ax.plot([2,2.1],[1,1.1],linewidth=5,color='k')\n",
      "ax.set_xlim([1.8,2.3])\n",
      "ax.set_ylim([0.8,1.3])\n",
      "\n",
      "# Draw labels\n",
      "ax.annotate(\"\",(2,1),(2-0.05,1-0.05),arrowprops=dict(arrowstyle='<-'))\n",
      "ax.annotate(\"\",(2.1,1.1),(2.1+0.05,1.1+0.05),arrowprops=dict(arrowstyle='<-'))\n",
      "ax.annotate(\"\",(2.05,1.05),(2.05,1.05-0.05),arrowprops=dict(arrowstyle='<-'))\n",
      "#ax.annotate(\"\",(2-0.02,1+0.02),(2.1-0.02,1.1+0.02),arrowprops=dict(arrowstyle='<-'))\n",
      "ax.text(1.95,1,'$T$',fontsize=16)\n",
      "ax.text(2.15,1.1,'$T+\\delta T$',fontsize=16)\n",
      "ax.text(2.06,1,'$\\lambda \\cdot g \\cdot \\delta r$',fontsize=16)\n",
      "\n",
      "# Draw it\n",
      "plt.show()"
     ],
     "language": "python",
     "metadata": {},
     "outputs": [
      {
       "metadata": {},
       "output_type": "display_data",
       "png": "[encoded data removed]",
       "text": [
        "<matplotlib.figure.Figure at 0x7f3bca07ea10>"
       ]
      }
     ],
     "prompt_number": 145
    },
    {
     "cell_type": "markdown",
     "metadata": {},
     "source": [
      "(Note that this is not to scale. The little piece of string should be infinitesimally curved.)\n",
      "\n",
      "If we resolve $\\delta T$ in the $x$ and $y$ directions and then balance horizontal and vertical forces we find that,\n",
      "\n",
      "\\begin{align}\n",
      "\\delta T_x &= 0 \\\\\n",
      "\\delta T_y &= \\lambda g \\delta r\n",
      "\\end{align}\n",
      "\n",
      "Now, in the limit as all the \"$\\delta$\"s go to $0$, this gives us two differential equations that are easily solved,\n",
      "\n",
      "\\begin{align}\n",
      "\\frac{\\partial T_x}{\\partial r} = 0 & \\Rightarrow T_x = K \\\\\n",
      "\\frac{\\partial T_y}{\\partial r} = \\lambda g & \\Rightarrow T_y = \\lambda g r\n",
      "\\end{align}\n",
      "\n",
      "K is an unknown constant of integration representing the constant horizontal tension throughout the string. The constant in the second integral is \n",
      "\n",
      "That was nice and simple, but the problem is that $T_y$ is \n"
     ]
    },
    {
     "cell_type": "code",
     "collapsed": false,
     "input": [
      "def catenary(x, a):\n",
      "    \"\"\"Catenary function with scale a\"\"\"\n",
      "    \n",
      "    return np.divide(np.cosh(a*x), a)\n",
      "    \n",
      "\n",
      "def draw_catenary(L, R, N=100):\n",
      "    \"\"\"Return catenary coordinates as x,y lists\"\"\"\n",
      "    \n",
      "    # Find the catenary scaling for this L,R combination\n",
      "    x0 = np.sqrt(R*L) # or something\n",
      "    opt = spopt.minimize(scale_err_fun, x0, (L,R), tol=1E-10)\n",
      "    a = opt.x\n",
      "    print(a)\n",
      "    \n",
      "    x = np.linspace(-L,L,N)\n",
      "    y = catenary(x, a)\n",
      "    y = y - min(y)\n",
      "    \n",
      "    ax = plt.figure().add_subplot(1,1,1)\n",
      "    ax.plot(x,y)\n",
      "    ax.set_xlim([-L,L])\n",
      "    ax.set_ylim([0,2L])\n",
      "    plt.show()\n",
      "    \n",
      "    "
     ],
     "language": "python",
     "metadata": {},
     "outputs": [],
     "prompt_number": 50
    },
    {
     "cell_type": "code",
     "collapsed": false,
     "input": [
      "fig = draw_catenary(1,1.5)"
     ],
     "language": "python",
     "metadata": {},
     "outputs": [
      {
       "output_type": "stream",
       "stream": "stdout",
       "text": [
        "[ 1.62213121]\n"
       ]
      },
      {
       "metadata": {},
       "output_type": "display_data",
       "png": "[encoded data removed]",
       "text": [
        "<matplotlib.figure.Figure at 0x7f3bd210f5d0>"
       ]
      }
     ],
     "prompt_number": 52
    },
    {
     "cell_type": "code",
     "collapsed": false,
     "input": [
      "\n",
      "\n"
     ],
     "language": "python",
     "metadata": {},
     "outputs": [],
     "prompt_number": 45
    },
    {
     "cell_type": "code",
     "collapsed": false,
     "input": [
      "def scale_err_fun(a, L, R):\n",
      "    return (np.sinh(a*L) - a*R)**2\n",
      "\n",
      "def scale_err_jac(a, L, R):\n",
      "    return 2*(np.sinh(a*L)-a*R)*(L*np.cosh(a*L)-R)\n",
      "\n",
      "def scale_err_hess(a, L, R):\n",
      "    return 2*( (np.sinh(a*L)-a*R)*(L**2*np.sinh(a*L)) + (L*np.cosh(a*L)-R)**2 )\n",
      "\n",
      "\n",
      "\n",
      "L = 1\n",
      "R = 1.001\n",
      "x0 = R/L\n",
      "tol = 1E-10\n",
      "lb = np.arccosh(R/L)/L\n",
      "xf = spopt.minimize(scale_err_fun, x0, (L,R), tol=1E-10)#, method='Newton-CG', jac=scale_err_jac, hess=scale_err_hess, tol=tol)\n",
      "a = xf.x[0]\n",
      "err = scale_err_fun(a,L,R)\n",
      "#xf = spopt.fmin_tnc(scale_err_fun, x0, fprime=scale_err_jac, args=(L,R), bounds=[(lb, np.Inf)], maxfun=10000, stepmx=0, accuracy=0, ftol=tol, xtol=tol)\n",
      "#xf = spopt.fmin_tnc(scale_err_fun, x0, approx_grad=True, args=(L,R), bounds=[(lb, np.Inf)], maxfun=10000, stepmx=0, accuracy=0, ftol=tol, xtol=tol)\n",
      "#xf = spopt.fmin_l_bfgs_b(scale_err_fun, x0, fprime=scale_err_jac, args=(L,R), approx_grad=0, bounds=[(lb, np.Inf)], m=10, factr=10000000.0, pgtol=1e-05, epsilon=1e-08, iprint=-1, maxfun=15000, maxiter=15000, disp=None, callback=None)\n",
      "#a = xf[0][0]\n",
      "#print(a)\n",
      "print(lb)\n",
      "print(xf.x[0])\n",
      "print(err)\n",
      "print('')\n",
      "\n",
      "print(xf)\n",
      "\n",
      "    "
     ],
     "language": "python",
     "metadata": {},
     "outputs": [
      {
       "output_type": "stream",
       "stream": "stdout",
       "text": [
        "0.0447176336083\n",
        "0.0774586809839\n",
        "4.52323487626e-16\n",
        "\n",
        "   status: 0\n",
        "  success: True\n",
        "     njev: 23\n",
        "     nfev: 69\n",
        " hess_inv: array([[ 116324.23011976]])\n",
        "      fun: 4.523234876263824e-16\n",
        "        x: array([ 0.07745868])\n",
        "  message: 'Optimization terminated successfully.'\n",
        "      jac: array([  8.51918267e-11])\n"
       ]
      }
     ],
     "prompt_number": 8
    },
    {
     "cell_type": "code",
     "collapsed": false,
     "input": [
      "#R=1\n",
      "#L=1\n",
      "#a=0\n",
      "x = 2.177\n",
      "print np.sinh(a*L)\n",
      "print(a*R)"
     ],
     "language": "python",
     "metadata": {},
     "outputs": [
      {
       "output_type": "stream",
       "stream": "stdout",
       "text": [
        "0.0775361609328\n",
        "0.0775361396649\n"
       ]
      }
     ],
     "prompt_number": 25
    },
    {
     "cell_type": "code",
     "collapsed": false,
     "input": [
      "x = np.linspace(-0.1,0.1,100)\n",
      "y = np.sinh(x)\n",
      "plt.plot(x,y)\n",
      "plt.plot(x,x)\n",
      "plt.show()"
     ],
     "language": "python",
     "metadata": {},
     "outputs": [
      {
       "metadata": {},
       "output_type": "display_data",
       "png": "[encoded data removed]",
       "text": [
        "<matplotlib.figure.Figure at 0x7f6953dfe610>"
       ]
      }
     ],
     "prompt_number": 7
    },
    {
     "cell_type": "code",
     "collapsed": false,
     "input": [],
     "language": "python",
     "metadata": {},
     "outputs": []
    }
   ],
   "metadata": {}
  }
 ]
}